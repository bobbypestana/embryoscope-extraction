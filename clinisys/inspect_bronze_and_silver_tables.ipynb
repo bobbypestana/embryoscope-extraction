{
 "cells": [
  {
   "cell_type": "markdown",
   "metadata": {},
   "source": [
    "# Bronze Tables Inspection\n",
    "This notebook connects to the DuckDB bronze layer and provides a quick sample and summary for each table."
   ]
  },
  {
   "cell_type": "code",
   "execution_count": 12,
   "metadata": {},
   "outputs": [],
   "source": [
    "import duckdb\n",
    "import pandas as pd\n",
    "import os\n",
    "\n",
    "pd.set_option('display.max_columns', None)\n",
    "\n",
    "# Path to DuckDB database\n",
    "db_path = os.path.join('..', 'database', 'clinisys_all.duckdb') if not os.path.exists('database/clinisys_all.duckdb') else 'database/clinisys_all.duckdb'\n",
    "con = duckdb.connect(db_path)\n"
   ]
  },
  {
   "cell_type": "code",
   "execution_count": 13,
   "metadata": {},
   "outputs": [
    {
     "data": {
      "text/html": [
       "<div>\n",
       "<style scoped>\n",
       "    .dataframe tbody tr th:only-of-type {\n",
       "        vertical-align: middle;\n",
       "    }\n",
       "\n",
       "    .dataframe tbody tr th {\n",
       "        vertical-align: top;\n",
       "    }\n",
       "\n",
       "    .dataframe thead th {\n",
       "        text-align: right;\n",
       "    }\n",
       "</style>\n",
       "<table border=\"1\" class=\"dataframe\">\n",
       "  <thead>\n",
       "    <tr style=\"text-align: right;\">\n",
       "      <th></th>\n",
       "      <th>schema_name</th>\n",
       "    </tr>\n",
       "  </thead>\n",
       "  <tbody>\n",
       "    <tr>\n",
       "      <th>0</th>\n",
       "      <td>main</td>\n",
       "    </tr>\n",
       "    <tr>\n",
       "      <th>1</th>\n",
       "      <td>silver</td>\n",
       "    </tr>\n",
       "    <tr>\n",
       "      <th>2</th>\n",
       "      <td>information_schema</td>\n",
       "    </tr>\n",
       "    <tr>\n",
       "      <th>3</th>\n",
       "      <td>main</td>\n",
       "    </tr>\n",
       "    <tr>\n",
       "      <th>4</th>\n",
       "      <td>pg_catalog</td>\n",
       "    </tr>\n",
       "    <tr>\n",
       "      <th>5</th>\n",
       "      <td>main</td>\n",
       "    </tr>\n",
       "  </tbody>\n",
       "</table>\n",
       "</div>"
      ],
      "text/plain": [
       "          schema_name\n",
       "0                main\n",
       "1              silver\n",
       "2  information_schema\n",
       "3                main\n",
       "4          pg_catalog\n",
       "5                main"
      ]
     },
     "execution_count": 13,
     "metadata": {},
     "output_type": "execute_result"
    }
   ],
   "source": [
    "# List all schemas in the database\n",
    "schemas = con.execute(\"SELECT schema_name FROM information_schema.schemata\").fetchdf()\n",
    "schemas"
   ]
  },
  {
   "cell_type": "code",
   "execution_count": 14,
   "metadata": {},
   "outputs": [
    {
     "name": "stdout",
     "output_type": "stream",
     "text": [
      "Found 0 tables: []\n"
     ]
    }
   ],
   "source": [
    "\n",
    "# List all tables\n",
    "\n",
    "use_schema = 'bronze'\n",
    "# use_schema = 'silver'\n",
    "tables = con.execute(f\"SELECT table_name FROM information_schema.tables WHERE table_schema='{use_schema}'\").fetchdf()['table_name'].tolist()\n",
    "print(f'Found {len(tables)} tables: {tables}')"
   ]
  },
  {
   "cell_type": "code",
   "execution_count": 15,
   "metadata": {},
   "outputs": [],
   "source": [
    "# Show schema and sample for each table in silver\n",
    "for table in tables:\n",
    "    print(f'\\n=== {table} ===')\n",
    "    schema = con.execute(f'PRAGMA table_info({use_schema}.{table})').fetchdf()\n",
    "    display(schema)\n",
    "    df = con.execute(f'SELECT * FROM {use_schema}.{table} LIMIT 5').fetchdf()\n",
    "    print(f'Shape: {df.shape}')\n",
    "    display(df)\n",
    "    lines = con.execute(f'SELECT COUNT(*) FROM {use_schema}.{table}').fetchone()\n",
    "    print(f'Records: {lines}')\n",
    "con.close()"
   ]
  },
  {
   "cell_type": "code",
   "execution_count": 10,
   "metadata": {},
   "outputs": [
    {
     "name": "stdout",
     "output_type": "stream",
     "text": [
      "Schemas: [('main',), ('silver',), ('information_schema',), ('main',), ('pg_catalog',), ('main',)]\n",
      "\n",
      "Bronze tables: []\n",
      "\n",
      "Row counts for bronze tables:\n"
     ]
    }
   ],
   "source": [
    "import duckdb\n",
    "\n",
    "# Connect to the database\n",
    "con = duckdb.connect('../database/clinisys_all.duckdb')\n",
    "\n",
    "# Check schemas\n",
    "schemas = con.execute(\"SELECT schema_name FROM information_schema.schemata\").fetchall()\n",
    "print(\"Schemas:\", schemas)\n",
    "\n",
    "# Check bronze tables\n",
    "bronze_tables = con.execute(\"SELECT table_name FROM information_schema.tables WHERE table_schema = 'bronze'\").fetchall()\n",
    "print(\"\\nBronze tables:\", bronze_tables)\n",
    "\n",
    "# Check row counts for bronze tables\n",
    "print(\"\\nRow counts for bronze tables:\")\n",
    "for table in bronze_tables:\n",
    "    table_name = table[0]\n",
    "    count = con.execute(f\"SELECT COUNT(*) FROM bronze.{table_name}\").fetchone()[0]\n",
    "    print(f\"  {table_name}: {count} rows\")\n",
    "\n",
    "con.close() "
   ]
  }
 ],
 "metadata": {
  "kernelspec": {
   "display_name": "try_request",
   "language": "python",
   "name": "python3"
  },
  "language_info": {
   "codemirror_mode": {
    "name": "ipython",
    "version": 3
   },
   "file_extension": ".py",
   "mimetype": "text/x-python",
   "name": "python",
   "nbconvert_exporter": "python",
   "pygments_lexer": "ipython3",
   "version": "3.9.21"
  }
 },
 "nbformat": 4,
 "nbformat_minor": 2
}
