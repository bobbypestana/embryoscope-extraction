{
 "cells": [
  {
   "cell_type": "markdown",
   "metadata": {},
   "source": [
    "# Explore Vila Mariana Patients & Treatments\n",
    "\n",
    "This notebook lets you list all patients in the bronze layer of the Vila Mariana DB, select which patients to fetch treatments for, and display those treatments. Edit the patient list and re-run as needed."
   ]
  },
  {
   "cell_type": "code",
   "execution_count": 1,
   "metadata": {},
   "outputs": [],
   "source": [
    "import duckdb\n",
    "import pandas as pd\n",
    "from pathlib import Path\n",
    "\n",
    "# Path to Vila Mariana DB\n",
    "db_path = Path('../database/embryoscope_vila_mariana.db')\n",
    "con = duckdb.connect(str(db_path))"
   ]
  },
  {
   "cell_type": "code",
   "execution_count": 2,
   "metadata": {},
   "outputs": [
    {
     "data": {
      "text/html": [
       "<div>\n",
       "<style scoped>\n",
       "    .dataframe tbody tr th:only-of-type {\n",
       "        vertical-align: middle;\n",
       "    }\n",
       "\n",
       "    .dataframe tbody tr th {\n",
       "        vertical-align: top;\n",
       "    }\n",
       "\n",
       "    .dataframe thead th {\n",
       "        text-align: right;\n",
       "    }\n",
       "</style>\n",
       "<table border=\"1\" class=\"dataframe\">\n",
       "  <thead>\n",
       "    <tr style=\"text-align: right;\">\n",
       "      <th></th>\n",
       "      <th>PatientIDx</th>\n",
       "      <th>PatientName</th>\n",
       "    </tr>\n",
       "  </thead>\n",
       "  <tbody>\n",
       "    <tr>\n",
       "      <th>0</th>\n",
       "      <td>NEXTGEN_43622.7870662732</td>\n",
       "      <td>None</td>\n",
       "    </tr>\n",
       "    <tr>\n",
       "      <th>1</th>\n",
       "      <td>PC10T4L72760_43623.4196205208</td>\n",
       "      <td>None</td>\n",
       "    </tr>\n",
       "    <tr>\n",
       "      <th>2</th>\n",
       "      <td>NEXTGEN_43622.6655321528</td>\n",
       "      <td>None</td>\n",
       "    </tr>\n",
       "    <tr>\n",
       "      <th>3</th>\n",
       "      <td>PC10T4L77647_43623.5757282639</td>\n",
       "      <td>None</td>\n",
       "    </tr>\n",
       "    <tr>\n",
       "      <th>4</th>\n",
       "      <td>PC10T4L790165_43625.4810629630</td>\n",
       "      <td>None</td>\n",
       "    </tr>\n",
       "    <tr>\n",
       "      <th>...</th>\n",
       "      <td>...</td>\n",
       "      <td>...</td>\n",
       "    </tr>\n",
       "    <tr>\n",
       "      <th>2646</th>\n",
       "      <td>PC1R85KM_45837.3836713889</td>\n",
       "      <td>None</td>\n",
       "    </tr>\n",
       "    <tr>\n",
       "      <th>2647</th>\n",
       "      <td>PC1R85KM_45808.6028175694</td>\n",
       "      <td>None</td>\n",
       "    </tr>\n",
       "    <tr>\n",
       "      <th>2648</th>\n",
       "      <td>PC1R85KM_45852.7453160185</td>\n",
       "      <td>None</td>\n",
       "    </tr>\n",
       "    <tr>\n",
       "      <th>2649</th>\n",
       "      <td>PC1R85KM_45853.3479147569</td>\n",
       "      <td>None</td>\n",
       "    </tr>\n",
       "    <tr>\n",
       "      <th>2650</th>\n",
       "      <td>PC1R85KM_45853.4072312847</td>\n",
       "      <td>None</td>\n",
       "    </tr>\n",
       "  </tbody>\n",
       "</table>\n",
       "<p>2651 rows × 2 columns</p>\n",
       "</div>"
      ],
      "text/plain": [
       "                          PatientIDx PatientName\n",
       "0           NEXTGEN_43622.7870662732        None\n",
       "1      PC10T4L72760_43623.4196205208        None\n",
       "2           NEXTGEN_43622.6655321528        None\n",
       "3      PC10T4L77647_43623.5757282639        None\n",
       "4     PC10T4L790165_43625.4810629630        None\n",
       "...                              ...         ...\n",
       "2646       PC1R85KM_45837.3836713889        None\n",
       "2647       PC1R85KM_45808.6028175694        None\n",
       "2648       PC1R85KM_45852.7453160185        None\n",
       "2649       PC1R85KM_45853.3479147569        None\n",
       "2650       PC1R85KM_45853.4072312847        None\n",
       "\n",
       "[2651 rows x 2 columns]"
      ]
     },
     "metadata": {},
     "output_type": "display_data"
    }
   ],
   "source": [
    "# List all patients in bronze layer\n",
    "patients_df = con.execute(\"SELECT PatientIDx, raw_json FROM bronze.raw_patients\").fetchdf()\n",
    "# Try to extract patient name if present in raw_json\n",
    "def extract_name(raw_json):\n",
    "    try:\n",
    "        import json\n",
    "        return json.loads(raw_json).get('PatientName', None)\n",
    "    except Exception:\n",
    "        return None\n",
    "patients_df['PatientName'] = patients_df['raw_json'].apply(extract_name)\n",
    "patients_df = patients_df[['PatientIDx', 'PatientName']]\n",
    "display(patients_df)"
   ]
  },
  {
   "cell_type": "code",
   "execution_count": 4,
   "metadata": {},
   "outputs": [
    {
     "name": "stdout",
     "output_type": "stream",
     "text": [
      "Selected patients: ['PC1R85KM_45849.5107237963', 'PC1R85KM_45850.3306940162', 'PC1R85KM_45851.4561169792', 'PC1R85KM_45511.6521238194', 'PC1R85KM_45395.4435693634', 'PC1R85KM_45837.3836713889', 'PC1R85KM_45808.6028175694', 'PC1R85KM_45852.7453160185', 'PC1R85KM_45853.3479147569', 'PC1R85KM_45853.4072312847']\n"
     ]
    }
   ],
   "source": [
    "# === Select patients to fetch treatments for ===\n",
    "# Edit this list to choose which patients to fetch treatments for\n",
    "selected_patient_ids = patients_df['PatientIDx'].tail(10).tolist()\n",
    "print('Selected patients:', selected_patient_ids)"
   ]
  },
  {
   "cell_type": "code",
   "execution_count": 5,
   "metadata": {},
   "outputs": [
    {
     "data": {
      "text/html": [
       "<div>\n",
       "<style scoped>\n",
       "    .dataframe tbody tr th:only-of-type {\n",
       "        vertical-align: middle;\n",
       "    }\n",
       "\n",
       "    .dataframe tbody tr th {\n",
       "        vertical-align: top;\n",
       "    }\n",
       "\n",
       "    .dataframe thead th {\n",
       "        text-align: right;\n",
       "    }\n",
       "</style>\n",
       "<table border=\"1\" class=\"dataframe\">\n",
       "  <thead>\n",
       "    <tr style=\"text-align: right;\">\n",
       "      <th></th>\n",
       "      <th>PatientIDx</th>\n",
       "      <th>TreatmentName</th>\n",
       "      <th>raw_json</th>\n",
       "      <th>_extraction_timestamp</th>\n",
       "      <th>_run_id</th>\n",
       "      <th>_location</th>\n",
       "      <th>_row_hash</th>\n",
       "    </tr>\n",
       "  </thead>\n",
       "  <tbody>\n",
       "  </tbody>\n",
       "</table>\n",
       "</div>"
      ],
      "text/plain": [
       "Empty DataFrame\n",
       "Columns: [PatientIDx, TreatmentName, raw_json, _extraction_timestamp, _run_id, _location, _row_hash]\n",
       "Index: []"
      ]
     },
     "metadata": {},
     "output_type": "display_data"
    },
    {
     "name": "stdout",
     "output_type": "stream",
     "text": [
      "Found 0 treatments.\n"
     ]
    }
   ],
   "source": [
    "# Fetch treatments for selected patients\n",
    "if selected_patient_ids:\n",
    "    placeholders = ','.join(['?' for _ in selected_patient_ids])\n",
    "    query = f\"SELECT * FROM bronze.raw_treatments WHERE PatientIDx IN ({placeholders})\"\n",
    "    treatments_df = con.execute(query, selected_patient_ids).fetchdf()\n",
    "    display(treatments_df)\n",
    "    print(f'Found {len(treatments_df)} treatments.')\n",
    "else:\n",
    "    print('No patients selected.')"
   ]
  },
  {
   "cell_type": "code",
   "execution_count": null,
   "metadata": {},
   "outputs": [],
   "source": [
    "# Close connection when done\n",
    "con.close()"
   ]
  }
 ],
 "metadata": {
  "kernelspec": {
   "display_name": "try_request",
   "language": "python",
   "name": "python3"
  },
  "language_info": {
   "codemirror_mode": {
    "name": "ipython",
    "version": 3
   },
   "file_extension": ".py",
   "mimetype": "text/x-python",
   "name": "python",
   "nbconvert_exporter": "python",
   "pygments_lexer": "ipython3",
   "version": "3.9.21"
  }
 },
 "nbformat": 4,
 "nbformat_minor": 2
}
