{
 "cells": [
  {
   "cell_type": "markdown",
   "metadata": {},
   "source": [
    "# Manual Schema Creation Test for DuckDB\n",
    "\n",
    "This notebook helps you manually test creation of the `silver` schema and a minimal `silver.patients` table in a DuckDB file."
   ]
  },
  {
   "cell_type": "code",
   "execution_count": 2,
   "metadata": {},
   "outputs": [
    {
     "name": "stdout",
     "output_type": "stream",
     "text": [
      "Connected to: ..\\..\\database\\embryoscope_brasilia_test.duckdb\n"
     ]
    }
   ],
   "source": [
    "import duckdb\n",
    "from pathlib import Path\n",
    "\n",
    "# Path to the DuckDB file\n",
    "db_path = Path('../../database/embryoscope_brasilia_test.duckdb')\n",
    "con = duckdb.connect(str(db_path))\n",
    "print(f'Connected to: {db_path}')"
   ]
  },
  {
   "cell_type": "code",
   "execution_count": 3,
   "metadata": {},
   "outputs": [
    {
     "name": "stdout",
     "output_type": "stream",
     "text": [
      "Schemas before:\n",
      "          schema_name\n",
      "0              bronze\n",
      "1                main\n",
      "2  information_schema\n",
      "3                main\n",
      "4          pg_catalog\n",
      "5                main\n"
     ]
    }
   ],
   "source": [
    "# List all schemas before\n",
    "schemas_before = con.execute(\"SELECT schema_name FROM information_schema.schemata\").fetchdf()\n",
    "print('Schemas before:')\n",
    "print(schemas_before)"
   ]
  },
  {
   "cell_type": "code",
   "execution_count": 4,
   "metadata": {},
   "outputs": [
    {
     "name": "stdout",
     "output_type": "stream",
     "text": [
      "CREATE SCHEMA silver: Success\n"
     ]
    }
   ],
   "source": [
    "# Try to create the 'silver' schema\n",
    "try:\n",
    "    con.execute(\"CREATE SCHEMA IF NOT EXISTS silver\")\n",
    "    print('CREATE SCHEMA silver: Success')\n",
    "except Exception as e:\n",
    "    print('CREATE SCHEMA silver: Exception:', e)"
   ]
  },
  {
   "cell_type": "code",
   "execution_count": 5,
   "metadata": {},
   "outputs": [
    {
     "name": "stdout",
     "output_type": "stream",
     "text": [
      "Schemas after:\n",
      "          schema_name\n",
      "0              bronze\n",
      "1                main\n",
      "2              silver\n",
      "3  information_schema\n",
      "4                main\n",
      "5          pg_catalog\n",
      "6                main\n"
     ]
    }
   ],
   "source": [
    "# List all schemas after\n",
    "schemas_after = con.execute(\"SELECT schema_name FROM information_schema.schemata\").fetchdf()\n",
    "print('Schemas after:')\n",
    "print(schemas_after)"
   ]
  },
  {
   "cell_type": "code",
   "execution_count": 6,
   "metadata": {},
   "outputs": [
    {
     "name": "stdout",
     "output_type": "stream",
     "text": [
      "CREATE TABLE silver.patients: Success\n"
     ]
    }
   ],
   "source": [
    "# Try to create a minimal silver.patients table\n",
    "try:\n",
    "    con.execute(\"CREATE TABLE IF NOT EXISTS silver.patients (PatientIDx VARCHAR)\")\n",
    "    print('CREATE TABLE silver.patients: Success')\n",
    "except Exception as e:\n",
    "    print('CREATE TABLE silver.patients: Exception:', e)"
   ]
  },
  {
   "cell_type": "code",
   "execution_count": 7,
   "metadata": {},
   "outputs": [
    {
     "name": "stdout",
     "output_type": "stream",
     "text": [
      "Tables in silver schema:\n",
      "  table_name\n",
      "0   patients\n"
     ]
    }
   ],
   "source": [
    "# List all tables in the silver schema\n",
    "tables = con.execute(\"SELECT table_name FROM information_schema.tables WHERE table_schema = 'silver'\").fetchdf()\n",
    "print('Tables in silver schema:')\n",
    "print(tables)"
   ]
  },
  {
   "cell_type": "code",
   "execution_count": 8,
   "metadata": {},
   "outputs": [
    {
     "name": "stdout",
     "output_type": "stream",
     "text": [
      "Connection closed.\n"
     ]
    }
   ],
   "source": [
    "con.close()\n",
    "print('Connection closed.')"
   ]
  },
  {
   "cell_type": "code",
   "execution_count": null,
   "metadata": {},
   "outputs": [],
   "source": []
  }
 ],
 "metadata": {
  "kernelspec": {
   "display_name": "try_request",
   "language": "python",
   "name": "python3"
  },
  "language_info": {
   "codemirror_mode": {
    "name": "ipython",
    "version": 3
   },
   "file_extension": ".py",
   "mimetype": "text/x-python",
   "name": "python",
   "nbconvert_exporter": "python",
   "pygments_lexer": "ipython3",
   "version": "3.9.21"
  }
 },
 "nbformat": 4,
 "nbformat_minor": 2
}
