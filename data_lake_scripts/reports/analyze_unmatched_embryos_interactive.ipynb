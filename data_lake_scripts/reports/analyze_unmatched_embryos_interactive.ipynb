{
 "cells": [
  {
   "cell_type": "markdown",
   "metadata": {},
   "source": [
    "# Interactive Analysis of Unmatched Embryoscope Embryos\n",
    "\n",
    "This notebook allows you to:\n",
    "1. **Analyze unmatched Embryoscope embryos** and their characteristics\n",
    "2. **Check PatientID presence** in Clinisys data\n",
    "3. **Query source gold tables** for detailed investigation\n",
    "4. **Investigate specific cases** with custom queries"
   ]
  },
  {
   "cell_type": "code",
   "execution_count": 1,
   "metadata": {},
   "outputs": [
    {
     "name": "stdout",
     "output_type": "stream",
     "text": [
      "Connected to Huntington Data Lake\n"
     ]
    }
   ],
   "source": [
    "import duckdb\n",
    "import pandas as pd\n",
    "import numpy as np\n",
    "from datetime import datetime, timedelta\n",
    "import matplotlib.pyplot as plt\n",
    "import seaborn as sns\n",
    "\n",
    "# Set up plotting\n",
    "plt.style.use('default')\n",
    "sns.set_palette(\"husl\")\n",
    "\n",
    "# Connect to data lake\n",
    "con = duckdb.connect('../database/huntington_data_lake.duckdb')\n",
    "print(\"Connected to Huntington Data Lake\")"
   ]
  },
  {
   "cell_type": "markdown",
   "metadata": {},
   "source": [
    "## 1. Overview of Unmatched Embryoscope Embryos"
   ]
  },
  {
   "cell_type": "code",
   "execution_count": 3,
   "metadata": {},
   "outputs": [
    {
     "name": "stdout",
     "output_type": "stream",
     "text": [
      "================================================================================\n",
      "OVERVIEW OF UNMATCHED EMBRYOSCOPE EMBRYOS\n",
      "================================================================================\n",
      "Total Embryoscope embryos: 128,465\n",
      "Matched embryos: 58,709\n",
      "Unmatched embryos: 69,756\n",
      "Match rate: 45.70%\n"
     ]
    }
   ],
   "source": [
    "# Get overall statistics\n",
    "print(\"=\" * 80)\n",
    "print(\"OVERVIEW OF UNMATCHED EMBRYOSCOPE EMBRYOS\")\n",
    "print(\"=\" * 80)\n",
    "\n",
    "# Total Embryoscope embryos\n",
    "total_embryoscope = con.execute(\"SELECT COUNT(*) FROM gold.embryoscope_embrioes\").fetchone()[0]\n",
    "\n",
    "# Matched embryos\n",
    "matched_embryoscope = con.execute(\"\"\"\n",
    "    SELECT COUNT(DISTINCT embryo_EmbryoID) \n",
    "    FROM gold.embryoscope_clinisys_combined \n",
    "    WHERE embryo_EmbryoID IS NOT NULL\n",
    "\"\"\").fetchone()[0]\n",
    "\n",
    "# Unmatched embryos\n",
    "unmatched_embryoscope = total_embryoscope - matched_embryoscope\n",
    "\n",
    "print(f\"Total Embryoscope embryos: {total_embryoscope:,}\")\n",
    "print(f\"Matched embryos: {matched_embryoscope:,}\")\n",
    "print(f\"Unmatched embryos: {unmatched_embryoscope:,}\")\n",
    "print(f\"Match rate: {(matched_embryoscope/total_embryoscope*100):.2f}%\")"
   ]
  },
  {
   "cell_type": "markdown",
   "metadata": {},
   "source": [
    "## 2. PatientID Analysis"
   ]
  },
  {
   "cell_type": "code",
   "execution_count": 4,
   "metadata": {},
   "outputs": [
    {
     "name": "stdout",
     "output_type": "stream",
     "text": [
      "PatientID Status for Unmatched Embryos:\n",
      "patientid_status  count  percentage\n",
      "           VALID  67588       97.29\n",
      "  INVALID_FORMAT   1868        2.69\n",
      "           EMPTY     13        0.02\n"
     ]
    },
    {
     "data": {
      "image/png": "[encoded data removed]",
      "text/plain": [
       "<Figure size 1000x600 with 1 Axes>"
      ]
     },
     "metadata": {},
     "output_type": "display_data"
    }
   ],
   "source": [
    "# Analyze PatientID status for unmatched embryos\n",
    "patientid_analysis = con.execute(\"\"\"\n",
    "    SELECT \n",
    "        CASE \n",
    "            WHEN patient_PatientID IS NULL THEN 'NULL'\n",
    "            WHEN TRIM(patient_PatientID) = '' THEN 'EMPTY'\n",
    "            WHEN TRY_CAST(REPLACE(patient_PatientID, '.', '') AS INTEGER) IS NULL THEN 'INVALID_FORMAT'\n",
    "            ELSE 'VALID'\n",
    "        END as patientid_status,\n",
    "        COUNT(*) as count,\n",
    "        ROUND(COUNT(*) * 100.0 / SUM(COUNT(*)) OVER(), 2) as percentage\n",
    "    FROM gold.embryoscope_embrioes\n",
    "    WHERE embryo_EmbryoID NOT IN (\n",
    "        SELECT DISTINCT embryo_EmbryoID \n",
    "        FROM gold.embryoscope_clinisys_combined \n",
    "        WHERE embryo_EmbryoID IS NOT NULL\n",
    "    )\n",
    "    GROUP BY patientid_status\n",
    "    ORDER BY count DESC\n",
    "\"\"\").df()\n",
    "\n",
    "print(\"PatientID Status for Unmatched Embryos:\")\n",
    "print(patientid_analysis.to_string(index=False))\n",
    "\n",
    "# Visualize the distribution\n",
    "plt.figure(figsize=(10, 6))\n",
    "plt.pie(patientid_analysis['count'], labels=patientid_analysis['patientid_status'], autopct='%1.1f%%')\n",
    "plt.title('PatientID Status Distribution for Unmatched Embryos')\n",
    "plt.show()"
   ]
  },
  {
   "cell_type": "markdown",
   "metadata": {},
   "source": [
    "## 3. PatientID Presence in Clinisys"
   ]
  },
  {
   "cell_type": "code",
   "execution_count": 5,
   "metadata": {},
   "outputs": [
    {
     "name": "stdout",
     "output_type": "stream",
     "text": [
      "Unique PatientIDs in Clinisys: 15,561\n",
      "\n",
      "PatientID Presence Analysis:\n",
      "Total unmatched embryos with valid PatientID: 67,588\n",
      "PatientIDs found in Clinisys: 7,016\n",
      "PatientIDs NOT found in Clinisys: 60,572\n",
      "Percentage found in Clinisys: 10.4%\n"
     ]
    }
   ],
   "source": [
    "# Get unique PatientIDs from Clinisys\n",
    "clinisys_patientids = con.execute(\"\"\"\n",
    "    SELECT DISTINCT micro_prontuario\n",
    "    FROM gold.clinisys_embrioes\n",
    "    WHERE micro_prontuario IS NOT NULL\n",
    "\"\"\").fetchdf()['micro_prontuario'].tolist()\n",
    "\n",
    "print(f\"Unique PatientIDs in Clinisys: {len(clinisys_patientids):,}\")\n",
    "\n",
    "# Analyze PatientID presence for unmatched embryos\n",
    "unmatched_with_patientid = con.execute(\"\"\"\n",
    "    SELECT DISTINCT\n",
    "        embryo_EmbryoID,\n",
    "        embryo_FertilizationTime,\n",
    "        embryo_embryo_number,\n",
    "        patient_PatientID,\n",
    "        CASE \n",
    "            WHEN patient_PatientID IS NULL OR TRIM(patient_PatientID) = '' THEN NULL\n",
    "            WHEN TRY_CAST(REPLACE(patient_PatientID, '.', '') AS INTEGER) IS NULL THEN NULL\n",
    "            ELSE TRY_CAST(REPLACE(patient_PatientID, '.', '') AS INTEGER)\n",
    "        END as patient_PatientID_clean\n",
    "    FROM gold.embryoscope_embrioes\n",
    "    WHERE embryo_EmbryoID NOT IN (\n",
    "        SELECT DISTINCT embryo_EmbryoID \n",
    "        FROM gold.embryoscope_clinisys_combined \n",
    "        WHERE embryo_EmbryoID IS NOT NULL\n",
    "    )\n",
    "    AND patient_PatientID IS NOT NULL \n",
    "    AND TRIM(patient_PatientID) != ''\n",
    "    AND TRY_CAST(REPLACE(patient_PatientID, '.', '') AS INTEGER) IS NOT NULL\n",
    "    ORDER BY embryo_FertilizationTime DESC\n",
    "\"\"\").df()\n",
    "\n",
    "# Check which PatientIDs are in Clinisys\n",
    "unmatched_with_patientid['found_in_clinisys'] = unmatched_with_patientid['patient_PatientID_clean'].isin(clinisys_patientids)\n",
    "\n",
    "print(f\"\\nPatientID Presence Analysis:\")\n",
    "print(f\"Total unmatched embryos with valid PatientID: {len(unmatched_with_patientid):,}\")\n",
    "print(f\"PatientIDs found in Clinisys: {unmatched_with_patientid['found_in_clinisys'].sum():,}\")\n",
    "print(f\"PatientIDs NOT found in Clinisys: {(~unmatched_with_patientid['found_in_clinisys']).sum():,}\")\n",
    "print(f\"Percentage found in Clinisys: {(unmatched_with_patientid['found_in_clinisys'].sum()/len(unmatched_with_patientid)*100):.1f}%\")"
   ]
  },
  {
   "cell_type": "markdown",
   "metadata": {},
   "source": [
    "## 4. Date Range Analysis"
   ]
  },
  {
   "cell_type": "code",
   "execution_count": 6,
   "metadata": {},
   "outputs": [
    {
     "name": "stdout",
     "output_type": "stream",
     "text": [
      "Recent Dates with Unmatched Embryos:\n",
      "      date  unmatched_count  unique_patients\n",
      "2025-07-22                9                2\n",
      "2025-07-17               53                3\n",
      "2025-07-16                3                2\n",
      "2025-07-15               25                6\n",
      "2025-07-14               11                3\n",
      "2025-07-13                5                1\n",
      "2025-07-12               18                4\n",
      "2025-07-11               33                8\n",
      "2025-07-10               38                6\n",
      "2025-07-09                2                2\n",
      "2025-07-08                2                2\n",
      "2025-07-05               10                3\n",
      "2025-07-03               17                6\n",
      "2025-07-02               30                4\n",
      "2025-07-01               32                1\n",
      "2025-06-29                2                2\n",
      "2025-06-28                3                1\n",
      "2025-06-27                2                2\n",
      "2025-06-26                2                1\n",
      "2025-06-24               33                3\n"
     ]
    },
    {
     "data": {
      "image/png": "[encoded data removed]",
      "text/plain": [
       "<Figure size 1200x600 with 1 Axes>"
      ]
     },
     "metadata": {},
     "output_type": "display_data"
    }
   ],
   "source": [
    "# Analyze date ranges\n",
    "date_analysis = con.execute(\"\"\"\n",
    "    SELECT \n",
    "        CAST(embryo_FertilizationTime AS DATE) as date,\n",
    "        COUNT(*) as unmatched_count,\n",
    "        COUNT(DISTINCT patient_PatientID) as unique_patients\n",
    "    FROM gold.embryoscope_embrioes\n",
    "    WHERE embryo_EmbryoID NOT IN (\n",
    "        SELECT DISTINCT embryo_EmbryoID \n",
    "        FROM gold.embryoscope_clinisys_combined \n",
    "        WHERE embryo_EmbryoID IS NOT NULL\n",
    "    )\n",
    "    GROUP BY CAST(embryo_FertilizationTime AS DATE)\n",
    "    ORDER BY date DESC\n",
    "    LIMIT 20\n",
    "\"\"\").df()\n",
    "\n",
    "print(\"Recent Dates with Unmatched Embryos:\")\n",
    "print(date_analysis.to_string(index=False))\n",
    "\n",
    "# Visualize the trend\n",
    "plt.figure(figsize=(12, 6))\n",
    "plt.plot(date_analysis['date'], date_analysis['unmatched_count'], marker='o')\n",
    "plt.title('Unmatched Embryos by Date (Last 20 Dates)')\n",
    "plt.xlabel('Date')\n",
    "plt.ylabel('Number of Unmatched Embryos')\n",
    "plt.xticks(rotation=45)\n",
    "plt.tight_layout()\n",
    "plt.show()"
   ]
  },
  {
   "cell_type": "markdown",
   "metadata": {},
   "source": [
    "## 5. Interactive Query Tool\n",
    "\n",
    "Use the functions below to investigate specific cases:"
   ]
  },
  {
   "cell_type": "code",
   "execution_count": 15,
   "metadata": {},
   "outputs": [],
   "source": [
    "def investigate_patientid(patientid):\n",
    "    \"\"\"Investigate a specific PatientID in both systems.\"\"\"\n",
    "    print(f\"\\n{'='*60}\")\n",
    "    print(f\"INVESTIGATING PATIENTID: {patientid}\")\n",
    "    print(f\"{'='*60}\")\n",
    "    \n",
    "    # Check Embryoscope data\n",
    "    print(\"\\n1. EMBRYOSCOPE DATA:\")\n",
    "    embryoscope_data = con.execute(\"\"\"\n",
    "        SELECT \n",
    "            embryo_EmbryoID,\n",
    "            embryo_FertilizationTime,\n",
    "            embryo_embryo_number,\n",
    "            patient_PatientID,\n",
    "            treatment_TreatmentName,\n",
    "            embryo_EmbryoFate\n",
    "        FROM gold.embryoscope_embrioes\n",
    "        WHERE patient_PatientID = ?\n",
    "        ORDER BY embryo_FertilizationTime DESC\n",
    "    \"\"\", [float(patientid.replace('.', ''))]).df()\n",
    "    \n",
    "    if len(embryoscope_data) > 0:\n",
    "        print(f\"Found {len(embryoscope_data)} Embryoscope records:\")\n",
    "        print(embryoscope_data.to_string(index=False))\n",
    "    else:\n",
    "        print(\"No Embryoscope records found\")\n",
    "    \n",
    "    # Check Clinisys data\n",
    "    print(\"\\n2. CLINISYS DATA:\")\n",
    "    clinisys_data = con.execute(\"\"\"\n",
    "        SELECT \n",
    "            oocito_id,\n",
    "            micro_prontuario,\n",
    "            micro_Data_DL,\n",
    "            oocito_embryo_number,\n",
    "            oocito_Maturidade,\n",
    "            oocito_TCD\n",
    "        FROM gold.clinisys_embrioes\n",
    "        WHERE micro_prontuario = ?\n",
    "        ORDER BY micro_Data_DL DESC\n",
    "    \"\"\", [float(patientid.replace('.', ''))]).df()\n",
    "    \n",
    "    if len(clinisys_data) > 0:\n",
    "        print(f\"Found {len(clinisys_data)} Clinisys records:\")\n",
    "        print(clinisys_data.to_string(index=False))\n",
    "    else:\n",
    "        print(\"No Clinisys records found\")\n",
    "\n",
    "def investigate_date(date_str):\n",
    "    \"\"\"Investigate embryos and records for a specific date.\"\"\"\n",
    "    print(f\"\\n{'='*60}\")\n",
    "    print(f\"INVESTIGATING DATE: {date_str}\")\n",
    "    print(f\"{'='*60}\")\n",
    "    \n",
    "    # Embryoscope embryos on this date\n",
    "    print(\"\\n1. EMBRYOSCOPE EMBRYOS ON THIS DATE:\")\n",
    "    embryoscope_date = con.execute(\"\"\"\n",
    "        SELECT \n",
    "            embryo_EmbryoID,\n",
    "            embryo_FertilizationTime,\n",
    "            embryo_embryo_number,\n",
    "            patient_PatientID,\n",
    "            treatment_TreatmentName\n",
    "        FROM gold.embryoscope_embrioes\n",
    "        WHERE CAST(embryo_FertilizationTime AS DATE) = ?\n",
    "        ORDER BY embryo_FertilizationTime\n",
    "    \"\"\", [date_str]).df()\n",
    "    \n",
    "    print(f\"Found {len(embryoscope_date)} Embryoscope embryos:\")\n",
    "    print(embryoscope_date.to_string(index=False))\n",
    "    \n",
    "    # Clinisys records on this date\n",
    "    print(\"\\n2. CLINISYS RECORDS ON THIS DATE:\")\n",
    "    clinisys_date = con.execute(\"\"\"\n",
    "        SELECT \n",
    "            oocito_id,\n",
    "            micro_prontuario,\n",
    "            micro_Data_DL,\n",
    "            oocito_embryo_number,\n",
    "            oocito_Maturidade\n",
    "        FROM gold.clinisys_embrioes\n",
    "        WHERE CAST(micro_Data_DL AS DATE) = ?\n",
    "        ORDER BY micro_Data_DL\n",
    "    \"\"\", [date_str]).df()\n",
    "    \n",
    "    print(f\"Found {len(clinisys_date)} Clinisys records:\")\n",
    "    print(clinisys_date.to_string(index=False))\n",
    "\n",
    "def investigate_embryo_number(embryo_number):\n",
    "    \"\"\"Investigate a specific embryo number across both systems.\"\"\"\n",
    "    print(f\"\\n{'='*60}\")\n",
    "    print(f\"INVESTIGATING EMBRYO NUMBER: {embryo_number}\")\n",
    "    print(f\"{'='*60}\")\n",
    "    \n",
    "    # Embryoscope embryos with this number\n",
    "    print(\"\\n1. EMBRYOSCOPE EMBRYOS WITH THIS NUMBER:\")\n",
    "    embryoscope_embryo = con.execute(\"\"\"\n",
    "        SELECT \n",
    "            embryo_EmbryoID,\n",
    "            embryo_FertilizationTime,\n",
    "            embryo_embryo_number,\n",
    "            patient_PatientID,\n",
    "            treatment_TreatmentName\n",
    "        FROM gold.embryoscope_embrioes\n",
    "        WHERE embryo_embryo_number = ?\n",
    "        ORDER BY embryo_FertilizationTime DESC\n",
    "    \"\"\", [embryo_number]).df()\n",
    "    \n",
    "    print(f\"Found {len(embryoscope_embryo)} Embryoscope embryos:\")\n",
    "    print(embryoscope_embryo.to_string(index=False))\n",
    "    \n",
    "    # Clinisys records with this embryo number\n",
    "    print(\"\\n2. CLINISYS RECORDS WITH THIS EMBRYO NUMBER:\")\n",
    "    clinisys_embryo = con.execute(\"\"\"\n",
    "        SELECT \n",
    "            oocito_id,\n",
    "            micro_prontuario,\n",
    "            micro_Data_DL,\n",
    "            oocito_embryo_number,\n",
    "            oocito_Maturidade\n",
    "        FROM gold.clinisys_embrioes\n",
    "        WHERE oocito_embryo_number = ?\n",
    "        ORDER BY micro_Data_DL DESC\n",
    "    \"\"\", [embryo_number]).df()\n",
    "    \n",
    "    print(f\"Found {len(clinisys_embryo)} Clinisys records:\")\n",
    "    print(clinisys_embryo.to_string(index=False))\n",
    "\n",
    "def custom_query(query):\n",
    "    \"\"\"Execute a custom SQL query.\"\"\"\n",
    "    try:\n",
    "        result = con.execute(query).df()\n",
    "        print(f\"Query executed successfully. Found {len(result)} rows.\")\n",
    "        return result\n",
    "    except Exception as e:\n",
    "        print(f\"Error executing query: {e}\")\n",
    "        return None"
   ]
  },
  {
   "cell_type": "markdown",
   "metadata": {},
   "source": [
    "## 6. Sample Investigations\n",
    "\n",
    "Here are some example investigations you can run:"
   ]
  },
  {
   "cell_type": "code",
   "execution_count": 16,
   "metadata": {},
   "outputs": [
    {
     "name": "stdout",
     "output_type": "stream",
     "text": [
      "\n",
      "============================================================\n",
      "INVESTIGATING PATIENTID: 864.116\n",
      "============================================================\n",
      "\n",
      "1. EMBRYOSCOPE DATA:\n"
     ]
    },
    {
     "ename": "ConversionException",
     "evalue": "Conversion Error: Could not convert string 'tw' to DOUBLE when casting from source column patient_PatientID\n\nLINE 10:         WHERE patient_PatientID = ?\n                       ^",
     "output_type": "error",
     "traceback": [
      "\u001b[1;31m---------------------------------------------------------------------------\u001b[0m",
      "\u001b[1;31mConversionException\u001b[0m                       Traceback (most recent call last)",
      "Cell \u001b[1;32mIn[16], line 2\u001b[0m\n\u001b[0;32m      1\u001b[0m \u001b[38;5;66;03m# Example 1: Investigate a PatientID that exists in both systems but doesn't match\u001b[39;00m\n\u001b[1;32m----> 2\u001b[0m \u001b[43minvestigate_patientid\u001b[49m\u001b[43m(\u001b[49m\u001b[38;5;124;43m'\u001b[39;49m\u001b[38;5;124;43m864.116\u001b[39;49m\u001b[38;5;124;43m'\u001b[39;49m\u001b[43m)\u001b[49m\n",
      "Cell \u001b[1;32mIn[15], line 9\u001b[0m, in \u001b[0;36minvestigate_patientid\u001b[1;34m(patientid)\u001b[0m\n\u001b[0;32m      7\u001b[0m \u001b[38;5;66;03m# Check Embryoscope data\u001b[39;00m\n\u001b[0;32m      8\u001b[0m \u001b[38;5;28mprint\u001b[39m(\u001b[38;5;124m\"\u001b[39m\u001b[38;5;130;01m\\n\u001b[39;00m\u001b[38;5;124m1. EMBRYOSCOPE DATA:\u001b[39m\u001b[38;5;124m\"\u001b[39m)\n\u001b[1;32m----> 9\u001b[0m embryoscope_data \u001b[38;5;241m=\u001b[39m \u001b[43mcon\u001b[49m\u001b[38;5;241;43m.\u001b[39;49m\u001b[43mexecute\u001b[49m\u001b[43m(\u001b[49m\u001b[38;5;124;43m\"\"\"\u001b[39;49m\n\u001b[0;32m     10\u001b[0m \u001b[38;5;124;43m    SELECT \u001b[39;49m\n\u001b[0;32m     11\u001b[0m \u001b[38;5;124;43m        embryo_EmbryoID,\u001b[39;49m\n\u001b[0;32m     12\u001b[0m \u001b[38;5;124;43m        embryo_FertilizationTime,\u001b[39;49m\n\u001b[0;32m     13\u001b[0m \u001b[38;5;124;43m        embryo_embryo_number,\u001b[39;49m\n\u001b[0;32m     14\u001b[0m \u001b[38;5;124;43m        patient_PatientID,\u001b[39;49m\n\u001b[0;32m     15\u001b[0m \u001b[38;5;124;43m        treatment_TreatmentName,\u001b[39;49m\n\u001b[0;32m     16\u001b[0m \u001b[38;5;124;43m        embryo_EmbryoFate\u001b[39;49m\n\u001b[0;32m     17\u001b[0m \u001b[38;5;124;43m    FROM gold.embryoscope_embrioes\u001b[39;49m\n\u001b[0;32m     18\u001b[0m \u001b[38;5;124;43m    WHERE patient_PatientID = ?\u001b[39;49m\n\u001b[0;32m     19\u001b[0m \u001b[38;5;124;43m    ORDER BY embryo_FertilizationTime DESC\u001b[39;49m\n\u001b[0;32m     20\u001b[0m \u001b[38;5;124;43m\u001b[39;49m\u001b[38;5;124;43m\"\"\"\u001b[39;49m\u001b[43m,\u001b[49m\u001b[43m \u001b[49m\u001b[43m[\u001b[49m\u001b[38;5;28;43mfloat\u001b[39;49m\u001b[43m(\u001b[49m\u001b[43mpatientid\u001b[49m\u001b[38;5;241;43m.\u001b[39;49m\u001b[43mreplace\u001b[49m\u001b[43m(\u001b[49m\u001b[38;5;124;43m'\u001b[39;49m\u001b[38;5;124;43m.\u001b[39;49m\u001b[38;5;124;43m'\u001b[39;49m\u001b[43m,\u001b[49m\u001b[43m \u001b[49m\u001b[38;5;124;43m'\u001b[39;49m\u001b[38;5;124;43m'\u001b[39;49m\u001b[43m)\u001b[49m\u001b[43m)\u001b[49m\u001b[43m]\u001b[49m\u001b[43m)\u001b[49m\u001b[38;5;241m.\u001b[39mdf()\n\u001b[0;32m     22\u001b[0m \u001b[38;5;28;01mif\u001b[39;00m \u001b[38;5;28mlen\u001b[39m(embryoscope_data) \u001b[38;5;241m>\u001b[39m \u001b[38;5;241m0\u001b[39m:\n\u001b[0;32m     23\u001b[0m     \u001b[38;5;28mprint\u001b[39m(\u001b[38;5;124mf\u001b[39m\u001b[38;5;124m\"\u001b[39m\u001b[38;5;124mFound \u001b[39m\u001b[38;5;132;01m{\u001b[39;00m\u001b[38;5;28mlen\u001b[39m(embryoscope_data)\u001b[38;5;132;01m}\u001b[39;00m\u001b[38;5;124m Embryoscope records:\u001b[39m\u001b[38;5;124m\"\u001b[39m)\n",
      "\u001b[1;31mConversionException\u001b[0m: Conversion Error: Could not convert string 'tw' to DOUBLE when casting from source column patient_PatientID\n\nLINE 10:         WHERE patient_PatientID = ?\n                       ^"
     ]
    }
   ],
   "source": [
    "# Example 1: Investigate a PatientID that exists in both systems but doesn't match\n",
    "investigate_patientid('864.116')"
   ]
  },
  {
   "cell_type": "code",
   "execution_count": null,
   "metadata": {},
   "outputs": [],
   "source": [
    "# Example 2: Investigate a recent date with unmatched embryos\n",
    "investigate_date('2025-07-22')"
   ]
  },
  {
   "cell_type": "code",
   "execution_count": null,
   "metadata": {},
   "outputs": [],
   "source": [
    "# Example 3: Investigate a specific embryo number\n",
    "investigate_embryo_number(1)"
   ]
  },
  {
   "cell_type": "markdown",
   "metadata": {},
   "source": [
    "## 7. Custom Analysis\n",
    "\n",
    "Use the cell below for your own custom queries:"
   ]
  },
  {
   "cell_type": "code",
   "execution_count": null,
   "metadata": {},
   "outputs": [],
   "source": [
    "# Example custom query - modify as needed\n",
    "custom_query_result = custom_query(\"\"\"\n",
    "    SELECT \n",
    "        patient_PatientID,\n",
    "        COUNT(*) as embryo_count,\n",
    "        MIN(embryo_FertilizationTime) as earliest_date,\n",
    "        MAX(embryo_FertilizationTime) as latest_date\n",
    "    FROM gold.embryoscope_embrioes\n",
    "    WHERE embryo_EmbryoID NOT IN (\n",
    "        SELECT DISTINCT embryo_EmbryoID \n",
    "        FROM gold.embryoscope_clinisys_combined \n",
    "        WHERE embryo_EmbryoID IS NOT NULL\n",
    "    )\n",
    "    AND patient_PatientID IS NOT NULL\n",
    "    GROUP BY patient_PatientID\n",
    "    HAVING COUNT(*) > 10\n",
    "    ORDER BY embryo_count DESC\n",
    "    LIMIT 10\n",
    "\"\"\")\n",
    "\n",
    "if custom_query_result is not None:\n",
    "    print(\"\\nPatients with most unmatched embryos:\")\n",
    "    print(custom_query_result.to_string(index=False))"
   ]
  },
  {
   "cell_type": "markdown",
   "metadata": {},
   "source": [
    "## 8. Summary and Next Steps\n",
    "\n",
    "Based on the analysis above, you can:\n",
    "\n",
    "1. **Investigate specific PatientIDs** that appear in both systems but don't match\n",
    "2. **Check date ranges** to understand temporal coverage differences\n",
    "3. **Analyze embryo numbering** patterns to identify systematic differences\n",
    "4. **Run custom queries** to explore specific hypotheses\n",
    "\n",
    "### Quick Investigation Examples:\n",
    "\n",
    "```python\n",
    "# Check a specific PatientID\n",
    "investigate_patientid('833.901')\n",
    "\n",
    "# Check a specific date\n",
    "investigate_date('2025-07-17')\n",
    "\n",
    "# Check a specific embryo number\n",
    "investigate_embryo_number(5)\n",
    "```\n",
    "\n",
    "### Common Custom Queries:\n",
    "\n",
    "```sql\n",
    "-- Find PatientIDs that exist in both systems but don't match\n",
    "SELECT DISTINCT e.patient_PatientID\n",
    "FROM gold.embryoscope_embrioes e\n",
    "JOIN gold.clinisys_embrioes c ON c.micro_prontuario = TRY_CAST(REPLACE(e.patient_PatientID, '.', '') AS INTEGER)\n",
    "WHERE e.embryo_EmbryoID NOT IN (\n",
    "    SELECT DISTINCT embryo_EmbryoID FROM gold.embryoscope_clinisys_combined WHERE embryo_EmbryoID IS NOT NULL\n",
    ")\n",
    "\n",
    "-- Find date ranges for each system\n",
    "SELECT 'Embryoscope' as system, MIN(embryo_FertilizationTime) as earliest, MAX(embryo_FertilizationTime) as latest\n",
    "FROM gold.embryoscope_embrioes\n",
    "UNION ALL\n",
    "SELECT 'Clinisys' as system, MIN(micro_Data_DL) as earliest, MAX(micro_Data_DL) as latest\n",
    "FROM gold.clinisys_embrioes\n",
    "```"
   ]
  },
  {
   "cell_type": "code",
   "execution_count": 17,
   "metadata": {},
   "outputs": [
    {
     "name": "stdout",
     "output_type": "stream",
     "text": [
      "Database connection closed.\n"
     ]
    }
   ],
   "source": [
    "# Close the database connection\n",
    "con.close()\n",
    "print(\"Database connection closed.\")"
   ]
  },
  {
   "cell_type": "code",
   "execution_count": null,
   "metadata": {},
   "outputs": [],
   "source": []
  }
 ],
 "metadata": {
  "kernelspec": {
   "display_name": "try_request",
   "language": "python",
   "name": "python3"
  },
  "language_info": {
   "codemirror_mode": {
    "name": "ipython",
    "version": 3
   },
   "file_extension": ".py",
   "mimetype": "text/x-python",
   "name": "python",
   "nbconvert_exporter": "python",
   "pygments_lexer": "ipython3",
   "version": "3.9.21"
  }
 },
 "nbformat": 4,
 "nbformat_minor": 4
}
