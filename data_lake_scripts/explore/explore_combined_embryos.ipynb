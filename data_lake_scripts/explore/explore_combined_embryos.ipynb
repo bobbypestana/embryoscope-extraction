{
 "cells": [
  {
   "cell_type": "markdown",
   "metadata": {},
   "source": [
    "# Exploration of Combined Embryos Table\n",
    "\n",
    "This notebook explores the combined `embryoscope_clinisys_combined` table that joins embryoscope and clinisys embryo data.\n",
    "\n",
    "## Overview\n",
    "- **Table**: `embryoscope_clinisys_combined`\n",
    "- **Source**: Combined from embryoscope and clinisys gold layers\n",
    "- **Join Keys**: Date and embryo number\n",
    "- **Database**: `huntington_data_lake.duckdb`"
   ]
  },
  {
   "cell_type": "code",
   "execution_count": null,
   "metadata": {},
   "outputs": [],
   "source": [
    "import pandas as pd\n",
    "import duckdb\n",
    "import numpy as np\n",
    "import matplotlib.pyplot as plt\n",
    "import seaborn as sns\n",
    "from datetime import datetime\n",
    "import warnings\n",
    "warnings.filterwarnings('ignore')\n",
    "\n",
    "# Set up plotting style\n",
    "plt.style.use('default')\n",
    "sns.set_palette(\"husl\")\n",
    "\n",
    "print(f\"Exploration started at: {datetime.now()}\")"
   ]
  },
  {
   "cell_type": "markdown",
   "metadata": {},
   "source": [
    "## Database Connection"
   ]
  },
  {
   "cell_type": "code",
   "execution_count": null,
   "metadata": {},
   "outputs": [],
   "source": [
    "# Connect to the database\n",
    "db_path = \"../database/huntington_data_lake.duckdb\"\n",
    "conn = duckdb.connect(db_path)\n",
    "\n",
    "print(f\"Connected to database: {db_path}\")"
   ]
  },
  {
   "cell_type": "markdown",
   "metadata": {},
   "source": [
    "## Table Overview"
   ]
  },
  {
   "cell_type": "code",
   "execution_count": null,
   "metadata": {},
   "outputs": [],
   "source": [
    "# Check if the combined table exists\n",
    "tables = conn.execute(\"SHOW TABLES\").fetchall()\n",
    "print(\"Available tables:\")\n",
    "for table in tables:\n",
    "    print(f\"  - {table[0]}\")\n",
    "\n",
    "print(\"\\n\" + \"=\"*50)\n",
    "\n",
    "# Check the combined table specifically\n",
    "combined_table = \"gold.embryoscope_clinisys_combined\"\n",
    "if any(table[0] == combined_table for table in tables):\n",
    "    print(f\"✓ {combined_table} table found\")\n",
    "else:\n",
    "    print(f\"✗ {combined_table} table not found\")\n",
    "    print(\"Available tables with 'embryo' in name:\")\n",
    "    for table in tables:\n",
    "        if 'embryo' in table[0].lower():\n",
    "            print(f\"  - {table[0]}\")"
   ]
  },
  {
   "cell_type": "markdown",
   "metadata": {},
   "source": [
    "## Basic Table Information"
   ]
  },
  {
   "cell_type": "code",
   "execution_count": null,
   "metadata": {},
   "outputs": [],
   "source": [
    "# Get table schema\n",
    "schema = conn.execute(f\"DESCRIBE {combined_table}\").fetchall()\n",
    "print(f\"Table Schema for {combined_table}:\")\n",
    "print(\"=\"*80)\n",
    "for col in schema:\n",
    "    print(f\"{col[0]:<30} {col[1]:<20} {col[2]}\")\n",
    "\n",
    "print(f\"\\nTotal columns: {len(schema)}\")"
   ]
  },
  {
   "cell_type": "code",
   "execution_count": null,
   "metadata": {},
   "outputs": [],
   "source": [
    "# Get row count\n",
    "row_count = conn.execute(f\"SELECT COUNT(*) FROM {combined_table}\").fetchone()[0]\n",
    "print(f\"Total rows: {row_count:,}\")\n",
    "\n",
    "# Get sample data\n",
    "sample = conn.execute(f\"SELECT * FROM {combined_table} LIMIT 5\").fetchdf()\n",
    "print(\"\\nSample data:\")\n",
    "display(sample)"
   ]
  },
  {
   "cell_type": "markdown",
   "metadata": {},
   "source": [
    "## Data Quality Analysis"
   ]
  },
  {
   "cell_type": "code",
   "execution_count": null,
   "metadata": {},
   "outputs": [],
   "source": [
    "# Check for null values\n",
    "null_counts = {}\n",
    "for col in schema:\n",
    "    col_name = col[0]\n",
    "    null_count = conn.execute(f\"SELECT COUNT(*) FROM {combined_table} WHERE {col_name} IS NULL\").fetchone()[0]\n",
    "    null_counts[col_name] = null_count\n",
    "\n",
    "# Convert to DataFrame for better display\n",
    "null_df = pd.DataFrame(list(null_counts.items()), columns=['Column', 'Null_Count'])\n",
    "null_df['Null_Percentage'] = (null_df['Null_Count'] / row_count * 100).round(2)\n",
    "null_df = null_df.sort_values('Null_Count', ascending=False)\n",
    "\n",
    "print(\"Columns with null values:\")\n",
    "display(null_df[null_df['Null_Count'] > 0].head(20))\n",
    "\n",
    "# Plot null percentages for top columns\n",
    "top_null_cols = null_df[null_df['Null_Count'] > 0].head(15)\n",
    "if len(top_null_cols) > 0:\n",
    "    plt.figure(figsize=(12, 8))\n",
    "    plt.barh(range(len(top_null_cols)), top_null_cols['Null_Percentage'])\n",
    "    plt.yticks(range(len(top_null_cols)), top_null_cols['Column'])\n",
    "    plt.xlabel('Null Percentage (%)')\n",
    "    plt.title('Top 15 Columns with Highest Null Percentages')\n",
    "    plt.tight_layout()\n",
    "    plt.show()"
   ]
  },
  {
   "cell_type": "markdown",
   "metadata": {},
   "source": [
    "## Source System Analysis"
   ]
  },
  {
   "cell_type": "code",
   "execution_count": null,
   "metadata": {},
   "outputs": [],
   "source": [
    "# Analyze data by source system\n",
    "source_analysis = conn.execute(f\"\"\"\n",
    "    SELECT \n",
    "        CASE \n",
    "            WHEN embryo_EmbryoID IS NOT NULL THEN 'Embryoscope'\n",
    "            ELSE 'Clinisys Only'\n",
    "        END as source_system,\n",
    "        COUNT(*) as record_count,\n",
    "        COUNT(DISTINCT oocito_id) as unique_clinisys_oocitos,\n",
    "        COUNT(DISTINCT embryo_EmbryoID) as unique_embryoscope_embryos\n",
    "    FROM {combined_table}\n",
    "    GROUP BY \n",
    "        CASE \n",
    "            WHEN embryo_EmbryoID IS NOT NULL THEN 'Embryoscope'\n",
    "            ELSE 'Clinisys Only'\n",
    "        END\n",
    "\"\"\").fetchdf()\n",
    "\n",
    "print(\"Data distribution by source system:\")\n",
    "display(source_analysis)\n",
    "\n",
    "# Visualize the distribution\n",
    "plt.figure(figsize=(10, 6))\n",
    "plt.pie(source_analysis['record_count'], labels=source_analysis['source_system'], autopct='%1.1f%%')\n",
    "plt.title('Record Distribution by Source System')\n",
    "plt.show()"
   ]
  },
  {
   "cell_type": "markdown",
   "metadata": {},
   "source": [
    "## Date Range Analysis"
   ]
  },
  {
   "cell_type": "code",
   "execution_count": null,
   "metadata": {},
   "outputs": [],
   "source": [
    "# Analyze date ranges\n",
    "date_analysis = conn.execute(f\"\"\"\n",
    "    SELECT \n",
    "        MIN(micro_Data_DL) as min_clinisys_date,\n",
    "        MAX(micro_Data_DL) as max_clinisys_date,\n",
    "        MIN(embryo_FertilizationTime) as min_embryoscope_date,\n",
    "        MAX(embryo_FertilizationTime) as max_embryoscope_date,\n",
    "        COUNT(DISTINCT micro_Data_DL) as unique_clinisys_dates,\n",
    "        COUNT(DISTINCT embryo_FertilizationTime) as unique_embryoscope_dates\n",
    "    FROM {combined_table}\n",
    "\"\"\").fetchdf()\n",
    "\n",
    "print(\"Date range analysis:\")\n",
    "display(date_analysis)\n",
    "\n",
    "# Monthly distribution\n",
    "monthly_dist = conn.execute(f\"\"\"\n",
    "    SELECT \n",
    "        strftime('%Y-%m', micro_Data_DL) as month,\n",
    "        COUNT(*) as record_count\n",
    "    FROM {combined_table}\n",
    "    WHERE micro_Data_DL IS NOT NULL\n",
    "    GROUP BY strftime('%Y-%m', micro_Data_DL)\n",
    "    ORDER BY month\n",
    "    LIMIT 20\n",
    "\"\"\").fetchdf()\n",
    "\n",
    "if len(monthly_dist) > 0:\n",
    "    plt.figure(figsize=(12, 6))\n",
    "    plt.plot(range(len(monthly_dist)), monthly_dist['record_count'], marker='o')\n",
    "    plt.xticks(range(len(monthly_dist)), monthly_dist['month'], rotation=45)\n",
    "    plt.xlabel('Month')\n",
    "    plt.ylabel('Record Count')\n",
    "    plt.title('Monthly Record Distribution (Clinisys)')\n",
    "    plt.tight_layout()\n",
    "    plt.show()"
   ]
  },
  {
   "cell_type": "markdown",
   "metadata": {},
   "source": [
    "## Embryo Number Analysis"
   ]
  },
  {
   "cell_type": "code",
   "execution_count": null,
   "metadata": {},
   "outputs": [],
   "source": [
    "# Analyze embryo numbers\n",
    "embryo_analysis = conn.execute(f\"\"\"\n",
    "    SELECT \n",
    "        oocito_embryo_number,\n",
    "        embryo_embryo_number,\n",
    "        COUNT(*) as match_count\n",
    "    FROM {combined_table}\n",
    "    WHERE oocito_embryo_number IS NOT NULL AND embryo_embryo_number IS NOT NULL\n",
    "    GROUP BY oocito_embryo_number, embryo_embryo_number\n",
    "    ORDER BY match_count DESC\n",
    "    LIMIT 10\n",
    "\"\"\").fetchdf()\n",
    "\n",
    "print(\"Top embryo number matches:\")\n",
    "display(embryo_analysis)\n",
    "\n",
    "# Distribution of embryo numbers\n",
    "embryo_dist = conn.execute(f\"\"\"\n",
    "    SELECT \n",
    "        oocito_embryo_number,\n",
    "        COUNT(*) as count\n",
    "    FROM {combined_table}\n",
    "    WHERE oocito_embryo_number IS NOT NULL\n",
    "    GROUP BY oocito_embryo_number\n",
    "    ORDER BY count DESC\n",
    "    LIMIT 20\n",
    "\"\"\").fetchdf()\n",
    "\n",
    "if len(embryo_dist) > 0:\n",
    "    plt.figure(figsize=(12, 6))\n",
    "    plt.bar(range(len(embryo_dist)), embryo_dist['count'])\n",
    "    plt.xlabel('Embryo Number')\n",
    "    plt.ylabel('Count')\n",
    "    plt.title('Top 20 Embryo Numbers by Frequency')\n",
    "    plt.xticks(range(len(embryo_dist)), embryo_dist['oocito_embryo_number'], rotation=45)\n",
    "    plt.tight_layout()\n",
    "    plt.show()"
   ]
  },
  {
   "cell_type": "markdown",
   "metadata": {},
   "source": [
    "## Key Metrics Summary"
   ]
  },
  {
   "cell_type": "code",
   "execution_count": null,
   "metadata": {},
   "outputs": [],
   "source": [
    "# Summary statistics\n",
    "summary = conn.execute(f\"\"\"\n",
    "    SELECT \n",
    "        COUNT(*) as total_records,\n",
    "        COUNT(DISTINCT oocito_id) as unique_clinisys_oocitos,\n",
    "        COUNT(DISTINCT embryo_EmbryoID) as unique_embryoscope_embryos,\n",
    "        COUNT(DISTINCT oocito_embryo_number) as unique_clinisys_embryos,\n",
    "        COUNT(DISTINCT embryo_embryo_number) as unique_embryoscope_embryo_numbers,\n",
    "        COUNT(CASE WHEN embryo_EmbryoID IS NOT NULL THEN 1 END) as matched_records,\n",
    "        ROUND(COUNT(CASE WHEN embryo_EmbryoID IS NOT NULL THEN 1 END) * 100.0 / COUNT(*), 2) as match_percentage\n",
    "    FROM {combined_table}\n",
    "\"\"\").fetchdf()\n",
    "\n",
    "print(\"Key Metrics Summary:\")\n",
    "print(\"=\"*50)\n",
    "for col in summary.columns:\n",
    "    value = summary[col].iloc[0]\n",
    "    if 'percentage' in col.lower():\n",
    "        print(f\"{col.replace('_', ' ').title()}: {value}%\")\n",
    "    else:\n",
    "        print(f\"{col.replace('_', ' ').title()}: {value:,}\")"
   ]
  },
  {
   "cell_type": "markdown",
   "metadata": {},
   "source": [
    "## Data Quality Issues"
   ]
  },
  {
   "cell_type": "code",
   "execution_count": null,
   "metadata": {},
   "outputs": [],
   "source": [
    "# Check for potential data quality issues\n",
    "issues = conn.execute(f\"\"\"\n",
    "    SELECT \n",
    "        'Records with clinisys data but no embryoscope match' as issue_type,\n",
    "        COUNT(*) as count\n",
    "    FROM {combined_table}\n",
    "    WHERE oocito_id IS NOT NULL AND embryo_EmbryoID IS NULL\n",
    "    \n",
    "    UNION ALL\n",
    "    \n",
    "    SELECT \n",
    "        'Records with mismatched embryo numbers' as issue_type,\n",
    "        COUNT(*) as count\n",
    "    FROM {combined_table}\n",
    "    WHERE oocito_embryo_number IS NOT NULL \n",
    "        AND embryo_embryo_number IS NOT NULL\n",
    "        AND oocito_embryo_number != embryo_embryo_number\n",
    "    \n",
    "    UNION ALL\n",
    "    \n",
    "    SELECT \n",
    "        'Records with date mismatches (>1 day difference)' as issue_type,\n",
    "        COUNT(*) as count\n",
    "    FROM {combined_table}\n",
    "    WHERE micro_Data_DL IS NOT NULL \n",
    "        AND embryo_FertilizationTime IS NOT NULL\n",
    "        AND ABS(JULIANDAY(micro_Data_DL) - JULIANDAY(embryo_FertilizationTime)) > 1\n",
    "\"\"\").fetchdf()\n",
    "\n",
    "print(\"Potential Data Quality Issues:\")\n",
    "display(issues)"
   ]
  },
  {
   "cell_type": "markdown",
   "metadata": {},
   "source": [
    "## Recommendations"
   ]
  },
  {
   "cell_type": "code",
   "execution_count": null,
   "metadata": {},
   "outputs": [],
   "source": [
    "print(\"\"\"\n",
    "## Recommendations for Data Quality Improvement:\n",
    "\n",
    "1. **Low Match Rate**: Only {:.1f}% of records have matches between systems\n",
    "   - Investigate why so many clinisys records don't have embryoscope counterparts\n",
    "   - Check if date ranges overlap between systems\n",
    "   - Verify embryo number formats are consistent\n",
    "\n",
    "2. **Data Completeness**: \n",
    "   - Focus on columns with high null percentages\n",
    "   - Consider data validation rules for critical fields\n",
    "\n",
    "3. **Date Alignment**:\n",
    "   - Ensure both systems use the same date format and timezone\n",
    "   - Consider if date matching criteria should be more flexible\n",
    "\n",
    "4. **Embryo Number Consistency**:\n",
    "   - Verify embryo number formats and ranges in both systems\n",
    "   - Check for leading zeros or formatting differences\n",
    "\n",
    "5. **Monitoring**:\n",
    "   - Set up regular monitoring of match rates\n",
    "   - Track data quality metrics over time\n",
    "\"\"\".format(summary['match_percentage'].iloc[0]))"
   ]
  },
  {
   "cell_type": "code",
   "execution_count": null,
   "metadata": {},
   "outputs": [],
   "source": [
    "# Close database connection\n",
    "conn.close()\n",
    "print(f\"Exploration completed at: {datetime.now()}\")\n",
    "print(\"Database connection closed.\")"
   ]
  }
 ],
 "metadata": {
  "kernelspec": {
   "display_name": "Python 3",
   "language": "python",
   "name": "python3"
  },
  "language_info": {
   "codemirror_mode": {
    "name": "ipython",
    "version": 3
   },
   "file_extension": ".py",
   "mimetype": "text/x-python",
   "name": "python",
   "nbconvert_exporter": "python",
   "pygments_lexer": "ipython3",
   "version": "3.8.5"
  }
 },
 "nbformat": 4,
 "nbformat_minor": 4
}